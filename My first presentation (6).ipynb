{
 "cells": [
  {
   "cell_type": "markdown",
   "metadata": {
    "slideshow": {
     "slide_type": "slide"
    }
   },
   "source": [
    "# Page 2\n",
    "[Yara link](http://www.arte.tv/guide/es/060139-016-A/el-rev%C3%A9s-de-los-mapas-noticias-de-la-ant%C3%A1rtida?country=DE)\n",
    "![](pic.jpg)\n",
    "<iframe width=\"100%\" height=\"700\" src=\"//jsfiddle.net/YaraBJ/nmafo5r7/embedded/result/\" allowfullscreen=\"allowfullscreen\" frameborder=\"0\"></iframe>"
   ]
  },
  {
   "cell_type": "markdown",
   "metadata": {
    "slideshow": {
     "slide_type": "slide"
    }
   },
   "source": [
    "# Wearables Report\n",
    "\n",
    "### CI First Update !\n",
    "\n",
    "![](http://cache.lego.com/r/catalogs/-/media/catalogs/videos/disney%20princess/2015/mini%20movies/picture_perfect1488x842.jpg?l.r2=-477756477)\n"
   ]
  },
  {
   "cell_type": "markdown",
   "metadata": {
    "slideshow": {
     "slide_type": "subslide"
    }
   },
   "source": [
    "Im a sub slide"
   ]
  },
  {
   "cell_type": "markdown",
   "metadata": {
    "slideshow": {
     "slide_type": "slide"
    }
   },
   "source": [
    "# i am not a sub slide"
   ]
  },
  {
   "cell_type": "code",
   "execution_count": 3,
   "metadata": {
    "collapsed": false,
    "scrolled": false,
    "slideshow": {
     "slide_type": "slide"
    }
   },
   "outputs": [
    {
     "data": {
      "text/html": [
       " <iframe width=\"100%\" height=\"500\" src=\"//jsfiddle.net/YaraBJ/yar4nyLs/embedded/result/\" allowfullscreen=\"allowfullscreen\" frameborder=\"0\"></iframe>"
      ],
      "text/plain": [
       "<IPython.core.display.HTML object>"
      ]
     },
     "execution_count": 3,
     "metadata": {},
     "output_type": "execute_result"
    }
   ],
   "source": [
    "from IPython.display import HTML\n",
    "HTML(''' <iframe width=\"100%\" height=\"500\" src=\"//jsfiddle.net/YaraBJ/yar4nyLs/embedded/result/\" allowfullscreen=\"allowfullscreen\" frameborder=\"0\"></iframe>''')"
   ]
  },
  {
   "cell_type": "code",
   "execution_count": null,
   "metadata": {
    "collapsed": true
   },
   "outputs": [],
   "source": []
  },
  {
   "cell_type": "markdown",
   "metadata": {
    "slideshow": {
     "slide_type": "slide"
    }
   },
   "source": [
    "<iframe width=\"100%\" height=\"300\" src=\"//jsfiddle.net/YaraBJ/yar4nyLs/embedded/result/\" allowfullscreen=\"allowfullscreen\" frameborder=\"0\"></iframe>"
   ]
  }
 ],
 "metadata": {
  "celltoolbar": "Slideshow",
  "kernelspec": {
   "display_name": "Python 2",
   "language": "python",
   "name": "python2"
  },
  "language_info": {
   "codemirror_mode": {
    "name": "ipython",
    "version": 2
   },
   "file_extension": ".py",
   "mimetype": "text/x-python",
   "name": "python",
   "nbconvert_exporter": "python",
   "pygments_lexer": "ipython2",
   "version": "2.7.11"
  }
 },
 "nbformat": 4,
 "nbformat_minor": 0
}
